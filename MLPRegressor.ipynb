{
 "cells": [
  {
   "cell_type": "code",
   "execution_count": 7,
   "metadata": {},
   "outputs": [],
   "source": [
    "import pandas as pd\n",
    "import tkinter as tk \n",
    "import numpy as np \n",
    "from sklearn.model_selection import train_test_split\n",
    "from sklearn.neural_network import MLPRegressor\n",
    "from sklearn.metrics import r2_score, mean_squared_error, mean_absolute_error\n",
    "from math import sqrt"
   ]
  },
  {
   "cell_type": "code",
   "execution_count": 2,
   "metadata": {},
   "outputs": [],
   "source": [
    "data = pd.read_csv('USA_Housing.csv')\n",
    "data = data.drop('Address', axis=1)"
   ]
  },
  {
   "cell_type": "code",
   "execution_count": 3,
   "metadata": {},
   "outputs": [],
   "source": [
    "dt_train, dt_test = train_test_split(data, test_size=0.3, shuffle=True)\n",
    "\n",
    "x_train = dt_train.drop(['Price'], axis=1)\n",
    "y_train = dt_train['Price']\n",
    "x_test = dt_test.drop(['Price'], axis = 1)\n",
    "y_test = dt_test['Price']"
   ]
  },
  {
   "cell_type": "code",
   "execution_count": 5,
   "metadata": {},
   "outputs": [
    {
     "name": "stdout",
     "output_type": "stream",
     "text": [
      "Đánh giá mô hình trên tập kiểm tra:\n",
      "\n",
      "R2: 0.4990377948592596\n",
      "Mean Squared error (MSE): 0.4990377948592596\n",
      "Mean Absolute Error (MAE): 204953.16083970782\n",
      "Root Mean Squared Error (RMSE): 256256.2568062198\n"
     ]
    }
   ],
   "source": [
    "nr = MLPRegressor(hidden_layer_sizes=(250, 40, 20), learning_rate = 'constant', random_state = 0).fit(x_train, y_train)\n",
    "\n",
    "y_pred = nr.predict(x_test)\n",
    "\n",
    "r2_test = r2_score(y_test, y_pred)\n",
    "nse_test = 1 - (np.sum((y_test - y_pred)**2) / np.sum((y_test - np.mean(y_test))**2))\n",
    "mae_test = mean_absolute_error(y_test, y_pred)\n",
    "rmse_test = sqrt(mean_squared_error(y_test, y_pred))\n",
    "\n",
    "print(f\"Đánh giá mô hình trên tập kiểm tra:\\n\")\n",
    "print(f\"R2: {r2_test}\")\n",
    "print(f\"Mean Squared error (MSE): {nse_test}\")\n",
    "print(f\"Mean Absolute Error (MAE): {mae_test}\")\n",
    "print(f\"Root Mean Squared Error (RMSE): {rmse_test}\")"
   ]
  },
  {
   "cell_type": "code",
   "execution_count": 8,
   "metadata": {},
   "outputs": [
    {
     "name": "stderr",
     "output_type": "stream",
     "text": [
      "c:\\Users\\lvqql\\AppData\\Local\\Programs\\Python\\Python312\\Lib\\site-packages\\sklearn\\base.py:493: UserWarning: X does not have valid feature names, but MLPRegressor was fitted with feature names\n",
      "  warnings.warn(\n"
     ]
    }
   ],
   "source": [
    "# Hàm dự đoán giá khi nhấn nút \"Dự đoán\"\n",
    "def predict_price():\n",
    "    try:\n",
    "        # Lấy dữ liệu từ các ô nhập trên giao diện và chuyển đổi thành số\n",
    "        income = float(entry_boxes[0].get())\n",
    "        age = float(entry_boxes[1].get())\n",
    "        rooms = float(entry_boxes[2].get())\n",
    "        bedrooms = float(entry_boxes[3].get())\n",
    "        population = float(entry_boxes[4].get())\n",
    "        \n",
    "        # Dự đoán giá nhà\n",
    "        predicted_price = nr.predict([[income, age, rooms, bedrooms, population]])[0]\n",
    "\n",
    "        # Hiển thị kết quả dự đoán trên giao diện với định dạng 2 chữ số thập phân\n",
    "        result_label.config(text=f\"Giá nhà dự đoán: ${predicted_price:.2f}\")\n",
    "        \n",
    "        # Đánh giá mô hình và hiển thị kết quả\n",
    "        mae_value = mean_absolute_error(y_test, y_pred)\n",
    "        rmse_value = sqrt(mean_squared_error(y_test, y_pred))\n",
    "\n",
    "    except Exception as e:\n",
    "        messagebox.showerror(\"Lỗi\", \"Nhập dữ liệu không hợp lệ!\")\n",
    "\n",
    "# Tạo giao diện\n",
    "root = tk.Tk()\n",
    "root.title(\"Dự đoán giá nhà sử dụng MLPRegressor\")\n",
    "\n",
    "# Tạo các nhãn và ô nhập cho các thuộc tính của mẫu mới\n",
    "attributes = ['Trung bình thu nhập khu vực', 'Trung bình tuổi nhà', 'Trung bình số phòng', 'Trung bình số phòng ngủ', 'Tổng số dân cư']\n",
    "entry_boxes = []\n",
    "for i, attribute in enumerate(attributes):\n",
    "    label = tk.Label(root, text=f\"{attribute}:\")\n",
    "    label.grid(row=i, column=0, padx=10, pady=10)\n",
    "    entry = tk.Entry(root)\n",
    "    entry.grid(row=i, column=1, padx=10, pady=10)\n",
    "    entry_boxes.append(entry)\n",
    "\n",
    "# Nút dự đoán\n",
    "predict_button = tk.Button(root, text=\"Dự đoán\", command=predict_price)\n",
    "predict_button.grid(row=len(attributes), column=0, columnspan=2, pady=10)\n",
    "\n",
    "# Nhãn hiển thị kết quả dự đoán\n",
    "result_label = tk.Label(root, text=\"\")\n",
    "result_label.grid(row=len(attributes) + 1, column=0, columnspan=2, pady=10)\n",
    "\n",
    "# Nhãn hiển thị độ đo đánh giá chất lượng mô hình\n",
    "mae_label = tk.Label(root, text=f\"MAE: {mean_absolute_error(y_test, y_pred)}\")\n",
    "mae_label.grid(row=len(attributes) + 2, column=0, columnspan=2, pady=10)\n",
    "\n",
    "rmse_label = tk.Label(root, text=f\"RMSE: {sqrt(mean_squared_error(y_test, y_pred))}\")\n",
    "rmse_label.grid(row=len(attributes) + 3, column=0, columnspan=2, pady=10)\n",
    "\n",
    "root.mainloop()"
   ]
  }
 ],
 "metadata": {
  "kernelspec": {
   "display_name": "Python 3",
   "language": "python",
   "name": "python3"
  },
  "language_info": {
   "codemirror_mode": {
    "name": "ipython",
    "version": 3
   },
   "file_extension": ".py",
   "mimetype": "text/x-python",
   "name": "python",
   "nbconvert_exporter": "python",
   "pygments_lexer": "ipython3",
   "version": "3.12.4"
  }
 },
 "nbformat": 4,
 "nbformat_minor": 2
}
